{
 "cells": [
  {
   "cell_type": "code",
   "execution_count": 2,
   "metadata": {},
   "outputs": [
    {
     "data": {
      "text/html": [
       "<div>\n",
       "<style scoped>\n",
       "    .dataframe tbody tr th:only-of-type {\n",
       "        vertical-align: middle;\n",
       "    }\n",
       "\n",
       "    .dataframe tbody tr th {\n",
       "        vertical-align: top;\n",
       "    }\n",
       "\n",
       "    .dataframe thead th {\n",
       "        text-align: right;\n",
       "    }\n",
       "</style>\n",
       "<table border=\"1\" class=\"dataframe\">\n",
       "  <thead>\n",
       "    <tr style=\"text-align: right;\">\n",
       "      <th></th>\n",
       "      <th>FIELD: FPR</th>\n",
       "      <th>FIELD: FGIP</th>\n",
       "      <th>FIELD: FGPR</th>\n",
       "      <th>FIELD: FGPT</th>\n",
       "      <th>FIELD: FWPR</th>\n",
       "      <th>FIELD: FMWPR</th>\n",
       "      <th>FIELD: FMWPT</th>\n",
       "      <th>FIELD: FMWWT</th>\n",
       "      <th>FIELD: FGPP</th>\n",
       "      <th>FIELD: FGIMR</th>\n",
       "      <th>...</th>\n",
       "      <th>U3_D5: GGIMT</th>\n",
       "      <th>K-1: GGIMT</th>\n",
       "      <th>K-321: GGIMT</th>\n",
       "      <th>K-2: GGIMT</th>\n",
       "      <th>UKPG-2V: GGIMT</th>\n",
       "      <th>K-32: GGIMT</th>\n",
       "      <th>K-3: GGIMT</th>\n",
       "      <th>SBOR: GGIMT</th>\n",
       "      <th>UKPG-1V: GGIMT</th>\n",
       "      <th>CDKS_ZPA: GGIMT</th>\n",
       "    </tr>\n",
       "  </thead>\n",
       "  <tbody>\n",
       "    <tr>\n",
       "      <th>2022-01-01</th>\n",
       "      <td>45.508736</td>\n",
       "      <td>7.156036e+11</td>\n",
       "      <td>260874800.0</td>\n",
       "      <td>1.787138e+12</td>\n",
       "      <td>727.473206</td>\n",
       "      <td>487.0</td>\n",
       "      <td>524.0</td>\n",
       "      <td>5.0</td>\n",
       "      <td>260874800.0</td>\n",
       "      <td>60086328.0</td>\n",
       "      <td>...</td>\n",
       "      <td>0.0</td>\n",
       "      <td>0.0</td>\n",
       "      <td>3.709048e+10</td>\n",
       "      <td>3.709048e+10</td>\n",
       "      <td>3.709048e+10</td>\n",
       "      <td>3.709048e+10</td>\n",
       "      <td>0.0</td>\n",
       "      <td>1.093324e+11</td>\n",
       "      <td>7.224195e+10</td>\n",
       "      <td>1.093324e+11</td>\n",
       "    </tr>\n",
       "  </tbody>\n",
       "</table>\n",
       "<p>1 rows × 2891 columns</p>\n",
       "</div>"
      ],
      "text/plain": [
       "            FIELD: FPR   FIELD: FGIP  FIELD: FGPR   FIELD: FGPT  FIELD: FWPR  \\\n",
       "2022-01-01   45.508736  7.156036e+11  260874800.0  1.787138e+12   727.473206   \n",
       "\n",
       "            FIELD: FMWPR  FIELD: FMWPT  FIELD: FMWWT  FIELD: FGPP  \\\n",
       "2022-01-01         487.0         524.0           5.0  260874800.0   \n",
       "\n",
       "            FIELD: FGIMR  ...  U3_D5: GGIMT  K-1: GGIMT  K-321: GGIMT  \\\n",
       "2022-01-01    60086328.0  ...           0.0         0.0  3.709048e+10   \n",
       "\n",
       "              K-2: GGIMT  UKPG-2V: GGIMT   K-32: GGIMT  K-3: GGIMT  \\\n",
       "2022-01-01  3.709048e+10    3.709048e+10  3.709048e+10         0.0   \n",
       "\n",
       "             SBOR: GGIMT  UKPG-1V: GGIMT  CDKS_ZPA: GGIMT  \n",
       "2022-01-01  1.093324e+11    7.224195e+10     1.093324e+11  \n",
       "\n",
       "[1 rows x 2891 columns]"
      ]
     },
     "execution_count": 2,
     "metadata": {},
     "output_type": "execute_result"
    }
   ],
   "source": [
    "from binRead import MySmspec\n",
    "sm = MySmspec(r'model_1/PREDICT_445_11_2VAR_VELO_PICK.SMSPEC')\n",
    "sm.get_main(sm.get_all_keywords, sm.get_all_groups, use_units=False)"
   ]
  },
  {
   "cell_type": "code",
   "execution_count": null,
   "metadata": {},
   "outputs": [],
   "source": []
  }
 ],
 "metadata": {
  "kernelspec": {
   "display_name": "Python 3",
   "language": "python",
   "name": "python3"
  },
  "language_info": {
   "codemirror_mode": {
    "name": "ipython",
    "version": 3
   },
   "file_extension": ".py",
   "mimetype": "text/x-python",
   "name": "python",
   "nbconvert_exporter": "python",
   "pygments_lexer": "ipython3",
   "version": "3.10.6"
  },
  "orig_nbformat": 4,
  "vscode": {
   "interpreter": {
    "hash": "9424d8ede043529b70294f04a23dcad50dcb6cc4e19d8621b7029ddfd15e0126"
   }
  }
 },
 "nbformat": 4,
 "nbformat_minor": 2
}
